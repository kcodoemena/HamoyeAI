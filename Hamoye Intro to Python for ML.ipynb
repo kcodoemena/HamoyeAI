{
 "cells": [
  {
   "cell_type": "code",
   "execution_count": 54,
   "metadata": {},
   "outputs": [
    {
     "name": "stdout",
     "output_type": "stream",
     "text": [
      "[1, 2, 3, 4, 5, 6, 13, 21, 34]\n"
     ]
    }
   ],
   "source": [
    "#Question 1: Create a list with elements of A and B in a single dimension\n",
    "A = [1,2,3,4,5,6]\n",
    "B = [13,21,34]\n",
    "A.extend(B)\n",
    "print(A)"
   ]
  },
  {
   "cell_type": "code",
   "execution_count": 55,
   "metadata": {
    "scrolled": true
   },
   "outputs": [
    {
     "data": {
      "text/plain": [
       "array([[1., 0., 0.],\n",
       "       [0., 1., 0.],\n",
       "       [0., 0., 1.]])"
      ]
     },
     "execution_count": 55,
     "metadata": {},
     "output_type": "execute_result"
    }
   ],
   "source": [
    "#Question 2: create an identity matrix\n",
    "import numpy as np\n",
    "np.identity(3)"
   ]
  },
  {
   "cell_type": "code",
   "execution_count": 57,
   "metadata": {},
   "outputs": [
    {
     "data": {
      "text/html": [
       "<div>\n",
       "<style scoped>\n",
       "    .dataframe tbody tr th:only-of-type {\n",
       "        vertical-align: middle;\n",
       "    }\n",
       "\n",
       "    .dataframe tbody tr th {\n",
       "        vertical-align: top;\n",
       "    }\n",
       "\n",
       "    .dataframe thead th {\n",
       "        text-align: right;\n",
       "    }\n",
       "</style>\n",
       "<table border=\"1\" class=\"dataframe\">\n",
       "  <thead>\n",
       "    <tr style=\"text-align: right;\">\n",
       "      <th></th>\n",
       "      <th>record_id</th>\n",
       "      <th>utility_id_ferc1</th>\n",
       "      <th>report_year</th>\n",
       "      <th>plant_name_ferc1</th>\n",
       "      <th>fuel_type_code_pudl</th>\n",
       "      <th>fuel_unit</th>\n",
       "      <th>fuel_qty_burned</th>\n",
       "      <th>fuel_mmbtu_per_unit</th>\n",
       "      <th>fuel_cost_per_unit_burned</th>\n",
       "      <th>fuel_cost_per_unit_delivered</th>\n",
       "      <th>fuel_cost_per_mmbtu</th>\n",
       "    </tr>\n",
       "  </thead>\n",
       "  <tbody>\n",
       "    <tr>\n",
       "      <th>0</th>\n",
       "      <td>f1_fuel_1994_12_1_0_7</td>\n",
       "      <td>1</td>\n",
       "      <td>1994</td>\n",
       "      <td>rockport</td>\n",
       "      <td>coal</td>\n",
       "      <td>ton</td>\n",
       "      <td>5377489.0</td>\n",
       "      <td>16.590</td>\n",
       "      <td>18.59</td>\n",
       "      <td>18.53</td>\n",
       "      <td>1.121</td>\n",
       "    </tr>\n",
       "    <tr>\n",
       "      <th>1</th>\n",
       "      <td>f1_fuel_1994_12_1_0_10</td>\n",
       "      <td>1</td>\n",
       "      <td>1994</td>\n",
       "      <td>rockport total plant</td>\n",
       "      <td>coal</td>\n",
       "      <td>ton</td>\n",
       "      <td>10486945.0</td>\n",
       "      <td>16.592</td>\n",
       "      <td>18.58</td>\n",
       "      <td>18.53</td>\n",
       "      <td>1.120</td>\n",
       "    </tr>\n",
       "    <tr>\n",
       "      <th>2</th>\n",
       "      <td>f1_fuel_1994_12_2_0_1</td>\n",
       "      <td>2</td>\n",
       "      <td>1994</td>\n",
       "      <td>gorgas</td>\n",
       "      <td>coal</td>\n",
       "      <td>ton</td>\n",
       "      <td>2978683.0</td>\n",
       "      <td>24.130</td>\n",
       "      <td>39.72</td>\n",
       "      <td>38.12</td>\n",
       "      <td>1.650</td>\n",
       "    </tr>\n",
       "    <tr>\n",
       "      <th>3</th>\n",
       "      <td>f1_fuel_1994_12_2_0_7</td>\n",
       "      <td>2</td>\n",
       "      <td>1994</td>\n",
       "      <td>barry</td>\n",
       "      <td>coal</td>\n",
       "      <td>ton</td>\n",
       "      <td>3739484.0</td>\n",
       "      <td>23.950</td>\n",
       "      <td>47.21</td>\n",
       "      <td>45.99</td>\n",
       "      <td>1.970</td>\n",
       "    </tr>\n",
       "    <tr>\n",
       "      <th>4</th>\n",
       "      <td>f1_fuel_1994_12_2_0_10</td>\n",
       "      <td>2</td>\n",
       "      <td>1994</td>\n",
       "      <td>chickasaw</td>\n",
       "      <td>gas</td>\n",
       "      <td>mcf</td>\n",
       "      <td>40533.0</td>\n",
       "      <td>1.000</td>\n",
       "      <td>2.77</td>\n",
       "      <td>2.77</td>\n",
       "      <td>2.570</td>\n",
       "    </tr>\n",
       "  </tbody>\n",
       "</table>\n",
       "</div>"
      ],
      "text/plain": [
       "                record_id  utility_id_ferc1  report_year  \\\n",
       "0   f1_fuel_1994_12_1_0_7                 1         1994   \n",
       "1  f1_fuel_1994_12_1_0_10                 1         1994   \n",
       "2   f1_fuel_1994_12_2_0_1                 2         1994   \n",
       "3   f1_fuel_1994_12_2_0_7                 2         1994   \n",
       "4  f1_fuel_1994_12_2_0_10                 2         1994   \n",
       "\n",
       "       plant_name_ferc1 fuel_type_code_pudl fuel_unit  fuel_qty_burned  \\\n",
       "0              rockport                coal       ton        5377489.0   \n",
       "1  rockport total plant                coal       ton       10486945.0   \n",
       "2                gorgas                coal       ton        2978683.0   \n",
       "3                 barry                coal       ton        3739484.0   \n",
       "4             chickasaw                 gas       mcf          40533.0   \n",
       "\n",
       "   fuel_mmbtu_per_unit  fuel_cost_per_unit_burned  \\\n",
       "0               16.590                      18.59   \n",
       "1               16.592                      18.58   \n",
       "2               24.130                      39.72   \n",
       "3               23.950                      47.21   \n",
       "4                1.000                       2.77   \n",
       "\n",
       "   fuel_cost_per_unit_delivered  fuel_cost_per_mmbtu  \n",
       "0                         18.53                1.121  \n",
       "1                         18.53                1.120  \n",
       "2                         38.12                1.650  \n",
       "3                         45.99                1.970  \n",
       "4                          2.77                2.570  "
      ]
     },
     "execution_count": 57,
     "metadata": {},
     "output_type": "execute_result"
    }
   ],
   "source": [
    "import pandas as pd\n",
    "fuel_df = pd.read_csv(\"fuel_ferc1.csv\")\n",
    "fuel_df.head()"
   ]
  },
  {
   "cell_type": "code",
   "execution_count": 60,
   "metadata": {},
   "outputs": [
    {
     "data": {
      "text/plain": [
       "fuel_type_code_pudl\n",
       "coal         67.421830\n",
       "gas          13.659397\n",
       "nuclear    4955.157002\n",
       "oil         168.877086\n",
       "other        18.253856\n",
       "waste        19.518122\n",
       "Name: fuel_cost_per_unit_burned, dtype: float64"
      ]
     },
     "execution_count": 60,
     "metadata": {},
     "output_type": "execute_result"
    }
   ],
   "source": [
    "#Question 3: Which of the following fuel type code has the lowest average fuel cost per unit burned\n",
    "fuel_df.groupby('fuel_type_code_pudl')['fuel_cost_per_unit_burned'].mean()\n",
    "#Ans: gas"
   ]
  },
  {
   "cell_type": "code",
   "execution_count": 61,
   "metadata": {},
   "outputs": [
    {
     "data": {
      "text/plain": [
       "count    29523.00\n",
       "mean         8.49\n",
       "std         10.60\n",
       "min          0.00\n",
       "25%          1.02\n",
       "50%          5.76\n",
       "75%         17.01\n",
       "max        341.26\n",
       "Name: fuel_mmbtu_per_unit, dtype: float64"
      ]
     },
     "execution_count": 61,
     "metadata": {},
     "output_type": "execute_result"
    }
   ],
   "source": [
    "#Question 4: What is the standard deviation and 75th percentile of the measure of energy per unit (Fuel_mmbtu_per_unit) in two decimal places?\n",
    "round(fuel_df['fuel_mmbtu_per_unit'].describe(),2)\n",
    "#Ans: 10.60 and 17.01"
   ]
  },
  {
   "cell_type": "code",
   "execution_count": 65,
   "metadata": {},
   "outputs": [
    {
     "name": "stdout",
     "output_type": "stream",
     "text": [
      "15.85\n",
      "651.37\n"
     ]
    }
   ],
   "source": [
    "#Question 5: What is the skewness and kurtosis for the fuel quantity burned in two decimal places?\n",
    "skew = round(fuel_df['fuel_qty_burned'].skew(),2)\n",
    "kurt = round(fuel_df[\"fuel_qty_burned\"].kurt(),2)\n",
    "print(skew)\n",
    "print(kurt)\n",
    "#Ans: 15.85 and 651.37"
   ]
  },
  {
   "cell_type": "code",
   "execution_count": 71,
   "metadata": {},
   "outputs": [
    {
     "name": "stdout",
     "output_type": "stream",
     "text": [
      "record_id                         0\n",
      "utility_id_ferc1                  0\n",
      "report_year                       0\n",
      "plant_name_ferc1                  0\n",
      "fuel_type_code_pudl               0\n",
      "fuel_unit                       180\n",
      "fuel_qty_burned                   0\n",
      "fuel_mmbtu_per_unit               0\n",
      "fuel_cost_per_unit_burned         0\n",
      "fuel_cost_per_unit_delivered      0\n",
      "fuel_cost_per_mmbtu               0\n",
      "dtype: int64\n",
      "0.61\n"
     ]
    }
   ],
   "source": [
    "#Question 6: Which feature has missing values and what is the total number of missing value and percentage of the missing rows as a factor of the total number of rows in three decimal places?\n",
    "missing_total_row = fuel_df.isnull().sum()\n",
    "print(missing_total_row)\n",
    "percent_missing_total_row = (180/29523) * 100\n",
    "print(round(percent_missing_total_row,3))"
   ]
  },
  {
   "cell_type": "code",
   "execution_count": 72,
   "metadata": {},
   "outputs": [
    {
     "data": {
      "text/html": [
       "<div>\n",
       "<style scoped>\n",
       "    .dataframe tbody tr th:only-of-type {\n",
       "        vertical-align: middle;\n",
       "    }\n",
       "\n",
       "    .dataframe tbody tr th {\n",
       "        vertical-align: top;\n",
       "    }\n",
       "\n",
       "    .dataframe thead th {\n",
       "        text-align: right;\n",
       "    }\n",
       "</style>\n",
       "<table border=\"1\" class=\"dataframe\">\n",
       "  <thead>\n",
       "    <tr style=\"text-align: right;\">\n",
       "      <th></th>\n",
       "      <th>utility_id_ferc1</th>\n",
       "      <th>report_year</th>\n",
       "      <th>fuel_qty_burned</th>\n",
       "      <th>fuel_mmbtu_per_unit</th>\n",
       "      <th>fuel_cost_per_unit_burned</th>\n",
       "      <th>fuel_cost_per_unit_delivered</th>\n",
       "      <th>fuel_cost_per_mmbtu</th>\n",
       "    </tr>\n",
       "  </thead>\n",
       "  <tbody>\n",
       "    <tr>\n",
       "      <th>utility_id_ferc1</th>\n",
       "      <td>1.000000</td>\n",
       "      <td>0.093323</td>\n",
       "      <td>-0.057447</td>\n",
       "      <td>-0.066946</td>\n",
       "      <td>-0.037863</td>\n",
       "      <td>-0.016414</td>\n",
       "      <td>0.006122</td>\n",
       "    </tr>\n",
       "    <tr>\n",
       "      <th>report_year</th>\n",
       "      <td>0.093323</td>\n",
       "      <td>1.000000</td>\n",
       "      <td>0.012952</td>\n",
       "      <td>-0.110853</td>\n",
       "      <td>0.013599</td>\n",
       "      <td>-0.014043</td>\n",
       "      <td>0.010261</td>\n",
       "    </tr>\n",
       "    <tr>\n",
       "      <th>fuel_qty_burned</th>\n",
       "      <td>-0.057447</td>\n",
       "      <td>0.012952</td>\n",
       "      <td>1.000000</td>\n",
       "      <td>-0.080946</td>\n",
       "      <td>-0.018535</td>\n",
       "      <td>-0.003551</td>\n",
       "      <td>-0.001896</td>\n",
       "    </tr>\n",
       "    <tr>\n",
       "      <th>fuel_mmbtu_per_unit</th>\n",
       "      <td>-0.066946</td>\n",
       "      <td>-0.110853</td>\n",
       "      <td>-0.080946</td>\n",
       "      <td>1.000000</td>\n",
       "      <td>-0.010034</td>\n",
       "      <td>-0.009039</td>\n",
       "      <td>-0.005884</td>\n",
       "    </tr>\n",
       "    <tr>\n",
       "      <th>fuel_cost_per_unit_burned</th>\n",
       "      <td>-0.037863</td>\n",
       "      <td>0.013599</td>\n",
       "      <td>-0.018535</td>\n",
       "      <td>-0.010034</td>\n",
       "      <td>1.000000</td>\n",
       "      <td>0.011007</td>\n",
       "      <td>-0.000437</td>\n",
       "    </tr>\n",
       "    <tr>\n",
       "      <th>fuel_cost_per_unit_delivered</th>\n",
       "      <td>-0.016414</td>\n",
       "      <td>-0.014043</td>\n",
       "      <td>-0.003551</td>\n",
       "      <td>-0.009039</td>\n",
       "      <td>0.011007</td>\n",
       "      <td>1.000000</td>\n",
       "      <td>-0.000109</td>\n",
       "    </tr>\n",
       "    <tr>\n",
       "      <th>fuel_cost_per_mmbtu</th>\n",
       "      <td>0.006122</td>\n",
       "      <td>0.010261</td>\n",
       "      <td>-0.001896</td>\n",
       "      <td>-0.005884</td>\n",
       "      <td>-0.000437</td>\n",
       "      <td>-0.000109</td>\n",
       "      <td>1.000000</td>\n",
       "    </tr>\n",
       "  </tbody>\n",
       "</table>\n",
       "</div>"
      ],
      "text/plain": [
       "                              utility_id_ferc1  report_year  fuel_qty_burned  \\\n",
       "utility_id_ferc1                      1.000000     0.093323        -0.057447   \n",
       "report_year                           0.093323     1.000000         0.012952   \n",
       "fuel_qty_burned                      -0.057447     0.012952         1.000000   \n",
       "fuel_mmbtu_per_unit                  -0.066946    -0.110853        -0.080946   \n",
       "fuel_cost_per_unit_burned            -0.037863     0.013599        -0.018535   \n",
       "fuel_cost_per_unit_delivered         -0.016414    -0.014043        -0.003551   \n",
       "fuel_cost_per_mmbtu                   0.006122     0.010261        -0.001896   \n",
       "\n",
       "                              fuel_mmbtu_per_unit  fuel_cost_per_unit_burned  \\\n",
       "utility_id_ferc1                        -0.066946                  -0.037863   \n",
       "report_year                             -0.110853                   0.013599   \n",
       "fuel_qty_burned                         -0.080946                  -0.018535   \n",
       "fuel_mmbtu_per_unit                      1.000000                  -0.010034   \n",
       "fuel_cost_per_unit_burned               -0.010034                   1.000000   \n",
       "fuel_cost_per_unit_delivered            -0.009039                   0.011007   \n",
       "fuel_cost_per_mmbtu                     -0.005884                  -0.000437   \n",
       "\n",
       "                              fuel_cost_per_unit_delivered  \\\n",
       "utility_id_ferc1                                 -0.016414   \n",
       "report_year                                      -0.014043   \n",
       "fuel_qty_burned                                  -0.003551   \n",
       "fuel_mmbtu_per_unit                              -0.009039   \n",
       "fuel_cost_per_unit_burned                         0.011007   \n",
       "fuel_cost_per_unit_delivered                      1.000000   \n",
       "fuel_cost_per_mmbtu                              -0.000109   \n",
       "\n",
       "                              fuel_cost_per_mmbtu  \n",
       "utility_id_ferc1                         0.006122  \n",
       "report_year                              0.010261  \n",
       "fuel_qty_burned                         -0.001896  \n",
       "fuel_mmbtu_per_unit                     -0.005884  \n",
       "fuel_cost_per_unit_burned               -0.000437  \n",
       "fuel_cost_per_unit_delivered            -0.000109  \n",
       "fuel_cost_per_mmbtu                      1.000000  "
      ]
     },
     "execution_count": 72,
     "metadata": {},
     "output_type": "execute_result"
    }
   ],
   "source": [
    "#Question 8: Which of the features has the second and third lowest correlation with the Fuel Cost Per Unit Burned?\n",
    "fuel_df.corr()\n",
    "#Ans: fuel_qty_burned and fuel_mmbtu_per_unit"
   ]
  },
  {
   "cell_type": "code",
   "execution_count": 81,
   "metadata": {},
   "outputs": [
    {
     "data": {
      "text/plain": [
       "fuel_type_code_pudl  report_year\n",
       "coal                 1994            14984.572\n",
       "                     1995            14571.785\n",
       "                     1996            12694.803\n",
       "                     1997            43742.178\n",
       "                     1998            11902.597\n",
       "                     1999            16303.468\n",
       "                     2000           100428.831\n",
       "                     2001            15109.012\n",
       "                     2002             9171.164\n",
       "                     2003            30954.110\n",
       "                     2004             9632.063\n",
       "                     2005            11107.182\n",
       "                     2006            12402.684\n",
       "                     2007            12965.171\n",
       "                     2008            14331.348\n",
       "                     2009            45554.858\n",
       "                     2010            88627.745\n",
       "                     2011            17001.015\n",
       "                     2012            17546.097\n",
       "                     2013            17629.860\n",
       "                     2014            15412.197\n",
       "                     2015            13338.235\n",
       "                     2016            11100.925\n",
       "                     2017            10254.284\n",
       "                     2018             9488.197\n",
       "gas                  1994            10792.496\n",
       "                     1995             9087.905\n",
       "                     1996             1467.390\n",
       "                     1997             1518.471\n",
       "                     1998             7475.596\n",
       "                                       ...    \n",
       "other                2012              224.123\n",
       "                     2013              182.494\n",
       "                     2014                0.661\n",
       "                     2015                0.595\n",
       "                     2016                0.609\n",
       "waste                1994               52.762\n",
       "                     1995             -192.699\n",
       "                     1996               88.092\n",
       "                     1997              137.433\n",
       "                     1998              238.109\n",
       "                     1999              143.025\n",
       "                     2000             -489.141\n",
       "                     2001              217.499\n",
       "                     2002              254.438\n",
       "                     2003              161.973\n",
       "                     2004              272.512\n",
       "                     2005              313.457\n",
       "                     2006              423.847\n",
       "                     2007              427.014\n",
       "                     2008              474.022\n",
       "                     2009              739.884\n",
       "                     2010              755.157\n",
       "                     2011              517.912\n",
       "                     2012              589.791\n",
       "                     2013              609.411\n",
       "                     2014              591.594\n",
       "                     2015              629.270\n",
       "                     2016              539.079\n",
       "                     2017              452.079\n",
       "                     2018              660.972\n",
       "Name: fuel_cost_per_unit_burned, Length: 148, dtype: float64"
      ]
     },
     "execution_count": 81,
     "metadata": {},
     "output_type": "execute_result"
    }
   ],
   "source": [
    "fuel_df.groupby(['fuel_type_code_pudl','report_year'])['fuel_cost_per_unit_burned'].sum()"
   ]
  },
  {
   "cell_type": "code",
   "execution_count": 88,
   "metadata": {},
   "outputs": [
    {
     "data": {
      "text/plain": [
       "-0.21"
      ]
     },
     "execution_count": 88,
     "metadata": {},
     "output_type": "execute_result"
    }
   ],
   "source": [
    "#Question 9: For the fuel type coal, what is the percentage change in the fuel cost per unit burned in 1998 compared to 1994?\n",
    "\n",
    "round((11902.597-14984.572)/14984.572, 2)"
   ]
  },
  {
   "cell_type": "code",
   "execution_count": 90,
   "metadata": {},
   "outputs": [
    {
     "data": {
      "text/plain": [
       "report_year\n",
       "1994       63.636060\n",
       "1995       32.735269\n",
       "1996     9196.705948\n",
       "1997    11140.197239\n",
       "1998      287.154420\n",
       "1999       25.551627\n",
       "2000      985.362877\n",
       "2001       60.050396\n",
       "2002       47.594361\n",
       "2003       55.663493\n",
       "2004      139.524275\n",
       "2005       41.438184\n",
       "2006       38.657484\n",
       "2007       43.325023\n",
       "2008       58.588197\n",
       "2009      652.694163\n",
       "2010       91.862105\n",
       "2011       59.774667\n",
       "2012       60.994502\n",
       "2013      172.307591\n",
       "2014      192.737183\n",
       "2015      326.535511\n",
       "2016      103.901761\n",
       "2017       46.196861\n",
       "2018      499.269966\n",
       "Name: fuel_cost_per_unit_delivered, dtype: float64"
      ]
     },
     "execution_count": 90,
     "metadata": {},
     "output_type": "execute_result"
    }
   ],
   "source": [
    "#Question 10: Which year has the highest average fuel cost per unit delivered?\n",
    "fuel_df.groupby('report_year')['fuel_cost_per_unit_delivered'].mean()\n",
    "#Ans: 1997"
   ]
  },
  {
   "cell_type": "code",
   "execution_count": 92,
   "metadata": {},
   "outputs": [
    {
     "data": {
      "text/plain": [
       "pandas.core.frame.DataFrame"
      ]
     },
     "execution_count": 92,
     "metadata": {},
     "output_type": "execute_result"
    }
   ],
   "source": [
    "type(fuel_df)"
   ]
  },
  {
   "cell_type": "code",
   "execution_count": null,
   "metadata": {},
   "outputs": [],
   "source": []
  }
 ],
 "metadata": {
  "kernelspec": {
   "display_name": "Python 3",
   "language": "python",
   "name": "python3"
  },
  "language_info": {
   "codemirror_mode": {
    "name": "ipython",
    "version": 3
   },
   "file_extension": ".py",
   "mimetype": "text/x-python",
   "name": "python",
   "nbconvert_exporter": "python",
   "pygments_lexer": "ipython3",
   "version": "3.7.3"
  }
 },
 "nbformat": 4,
 "nbformat_minor": 2
}
